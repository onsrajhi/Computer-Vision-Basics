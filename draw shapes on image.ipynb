{
 "cells": [
  {
   "cell_type": "code",
   "execution_count": 3,
   "id": "0b5a054c",
   "metadata": {},
   "outputs": [],
   "source": [
    "import numpy as np\n",
    "import cv2"
   ]
  },
  {
   "cell_type": "code",
   "execution_count": 4,
   "id": "f67187d1",
   "metadata": {},
   "outputs": [],
   "source": [
    "img = cv2.imread('cat.jpg', 1)"
   ]
  },
  {
   "cell_type": "code",
   "execution_count": 6,
   "id": "8b17c13d",
   "metadata": {},
   "outputs": [],
   "source": [
    "#img = np.zeros([512, 512, 3], np.uint8)\n",
    "img = cv2.line(img, (0,0), (256,256), (0,255, 0), 10)\n",
    "img = cv2.rectangle(img, (384,0),(510,128), (0,0,255), 10)"
   ]
  },
  {
   "cell_type": "code",
   "execution_count": 7,
   "id": "bf52c26e",
   "metadata": {},
   "outputs": [
    {
     "data": {
      "text/plain": [
       "array([[[  0, 255,   0],\n",
       "        [  0, 255,   0],\n",
       "        [  0, 255,   0],\n",
       "        ...,\n",
       "        [ 30,  90, 136],\n",
       "        [ 28,  88, 134],\n",
       "        [ 26,  86, 132]],\n",
       "\n",
       "       [[  0, 255,   0],\n",
       "        [  0, 255,   0],\n",
       "        [  0, 255,   0],\n",
       "        ...,\n",
       "        [ 30,  90, 136],\n",
       "        [ 28,  88, 134],\n",
       "        [ 26,  86, 132]],\n",
       "\n",
       "       [[  0, 255,   0],\n",
       "        [  0, 255,   0],\n",
       "        [  0, 255,   0],\n",
       "        ...,\n",
       "        [ 31,  91, 137],\n",
       "        [ 29,  89, 135],\n",
       "        [ 27,  87, 133]],\n",
       "\n",
       "       ...,\n",
       "\n",
       "       [[ 49, 140, 215],\n",
       "        [ 49, 140, 215],\n",
       "        [ 49, 140, 215],\n",
       "        ...,\n",
       "        [ 50, 148, 218],\n",
       "        [ 50, 148, 218],\n",
       "        [ 49, 147, 217]],\n",
       "\n",
       "       [[ 48, 139, 214],\n",
       "        [ 48, 139, 214],\n",
       "        [ 48, 139, 214],\n",
       "        ...,\n",
       "        [ 51, 147, 217],\n",
       "        [ 51, 147, 217],\n",
       "        [ 50, 146, 216]],\n",
       "\n",
       "       [[ 47, 138, 213],\n",
       "        [ 47, 138, 213],\n",
       "        [ 47, 138, 213],\n",
       "        ...,\n",
       "        [ 51, 146, 216],\n",
       "        [ 51, 146, 216],\n",
       "        [ 50, 145, 215]]], shape=(360, 539, 3), dtype=uint8)"
      ]
     },
     "execution_count": 7,
     "metadata": {},
     "output_type": "execute_result"
    }
   ],
   "source": [
    "cv2.imshow('image', img)\n",
    "cv2.waitKey(0)\n",
    "cv2.destroyAllWindows()\n",
    "img"
   ]
  },
  {
   "cell_type": "code",
   "execution_count": null,
   "id": "5c7e8172",
   "metadata": {},
   "outputs": [],
   "source": []
  }
 ],
 "metadata": {
  "kernelspec": {
   "display_name": "venv",
   "language": "python",
   "name": "python3"
  },
  "language_info": {
   "codemirror_mode": {
    "name": "ipython",
    "version": 3
   },
   "file_extension": ".py",
   "mimetype": "text/x-python",
   "name": "python",
   "nbconvert_exporter": "python",
   "pygments_lexer": "ipython3",
   "version": "3.12.3"
  }
 },
 "nbformat": 4,
 "nbformat_minor": 5
}
