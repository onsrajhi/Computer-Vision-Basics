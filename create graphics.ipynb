{
 "cells": [
  {
   "cell_type": "code",
   "execution_count": 2,
   "id": "9465e46b",
   "metadata": {},
   "outputs": [],
   "source": [
    "import cv2 as cv\n",
    "import numpy as np"
   ]
  },
  {
   "cell_type": "code",
   "execution_count": 3,
   "id": "02c3923b",
   "metadata": {},
   "outputs": [
    {
     "data": {
      "text/plain": [
       "array([[[169,  50,  38],\n",
       "        [169,  50,  38],\n",
       "        [169,  50,  38],\n",
       "        ...,\n",
       "        [169,  50,  38],\n",
       "        [169,  50,  38],\n",
       "        [169,  50,  38]],\n",
       "\n",
       "       [[169,  50,  38],\n",
       "        [169,  50,  38],\n",
       "        [169,  50,  38],\n",
       "        ...,\n",
       "        [169,  50,  38],\n",
       "        [169,  50,  38],\n",
       "        [169,  50,  38]],\n",
       "\n",
       "       [[169,  50,  38],\n",
       "        [169,  50,  38],\n",
       "        [169,  50,  38],\n",
       "        ...,\n",
       "        [169,  50,  38],\n",
       "        [169,  50,  38],\n",
       "        [169,  50,  38]],\n",
       "\n",
       "       ...,\n",
       "\n",
       "       [[166, 172, 175],\n",
       "        [166, 172, 175],\n",
       "        [166, 172, 175],\n",
       "        ...,\n",
       "        [166, 172, 175],\n",
       "        [166, 172, 175],\n",
       "        [166, 172, 175]],\n",
       "\n",
       "       [[166, 172, 175],\n",
       "        [166, 172, 175],\n",
       "        [166, 172, 175],\n",
       "        ...,\n",
       "        [166, 172, 175],\n",
       "        [166, 172, 175],\n",
       "        [166, 172, 175]],\n",
       "\n",
       "       [[166, 172, 175],\n",
       "        [166, 172, 175],\n",
       "        [166, 172, 175],\n",
       "        ...,\n",
       "        [166, 172, 175],\n",
       "        [166, 172, 175],\n",
       "        [166, 172, 175]]], shape=(600, 900, 3), dtype=uint8)"
      ]
     },
     "execution_count": 3,
     "metadata": {},
     "output_type": "execute_result"
    }
   ],
   "source": [
    "img = np.zeros((600, 900, 3), dtype=np.uint8)\n",
    "#background\n",
    "cv.rectangle(img, (0,0), (900,500), (169, 50, 38), -1)\n",
    "cv.rectangle(img, (0,500), (900,600), (166, 172, 175), -1)\n",
    "cv.circle(img, (150,350), 70, (5, 5, 5), -1)\n",
    "cv.circle(img, (150,350), 80, (13, 36, 225), -1)"
   ]
  },
  {
   "cell_type": "code",
   "execution_count": 4,
   "id": "d24e807a",
   "metadata": {},
   "outputs": [
    {
     "data": {
      "text/plain": [
       "array([[[169,  50,  38],\n",
       "        [169,  50,  38],\n",
       "        [169,  50,  38],\n",
       "        ...,\n",
       "        [169,  50,  38],\n",
       "        [169,  50,  38],\n",
       "        [169,  50,  38]],\n",
       "\n",
       "       [[169,  50,  38],\n",
       "        [169,  50,  38],\n",
       "        [169,  50,  38],\n",
       "        ...,\n",
       "        [169,  50,  38],\n",
       "        [169,  50,  38],\n",
       "        [169,  50,  38]],\n",
       "\n",
       "       [[169,  50,  38],\n",
       "        [169,  50,  38],\n",
       "        [169,  50,  38],\n",
       "        ...,\n",
       "        [169,  50,  38],\n",
       "        [169,  50,  38],\n",
       "        [169,  50,  38]],\n",
       "\n",
       "       ...,\n",
       "\n",
       "       [[166, 172, 175],\n",
       "        [166, 172, 175],\n",
       "        [166, 172, 175],\n",
       "        ...,\n",
       "        [166, 172, 175],\n",
       "        [166, 172, 175],\n",
       "        [166, 172, 175]],\n",
       "\n",
       "       [[166, 172, 175],\n",
       "        [166, 172, 175],\n",
       "        [166, 172, 175],\n",
       "        ...,\n",
       "        [166, 172, 175],\n",
       "        [166, 172, 175],\n",
       "        [166, 172, 175]],\n",
       "\n",
       "       [[166, 172, 175],\n",
       "        [166, 172, 175],\n",
       "        [166, 172, 175],\n",
       "        ...,\n",
       "        [166, 172, 175],\n",
       "        [166, 172, 175],\n",
       "        [166, 172, 175]]], shape=(600, 900, 3), dtype=uint8)"
      ]
     },
     "execution_count": 4,
     "metadata": {},
     "output_type": "execute_result"
    }
   ],
   "source": [
    "#text\n",
    "font =  cv.FONT_HERSHEY_SIMPLEX\n",
    "cv.putText(img, \"Welcome\", (120,490), font, 1.2, (255,255, 255), 2)"
   ]
  },
  {
   "cell_type": "code",
   "execution_count": null,
   "id": "71685805",
   "metadata": {},
   "outputs": [
    {
     "data": {
      "text/plain": [
       "<function destroyAllWindows>"
      ]
     },
     "execution_count": 5,
     "metadata": {},
     "output_type": "execute_result"
    },
    {
     "ename": "",
     "evalue": "",
     "output_type": "error",
     "traceback": [
      "\u001b[1;31mThe Kernel crashed while executing code in the current cell or a previous cell. \n",
      "\u001b[1;31mPlease review the code in the cell(s) to identify a possible cause of the failure. \n",
      "\u001b[1;31mClick <a href='https://aka.ms/vscodeJupyterKernelCrash'>here</a> for more info. \n",
      "\u001b[1;31mView Jupyter <a href='command:jupyter.viewOutput'>log</a> for further details."
     ]
    }
   ],
   "source": [
    "cv.imshow(\"xxx\", img)\n",
    "cv.waitKey(0)\n",
    "cv.destroyAllWindows"
   ]
  }
 ],
 "metadata": {
  "kernelspec": {
   "display_name": "venv",
   "language": "python",
   "name": "python3"
  },
  "language_info": {
   "codemirror_mode": {
    "name": "ipython",
    "version": 3
   },
   "file_extension": ".py",
   "mimetype": "text/x-python",
   "name": "python",
   "nbconvert_exporter": "python",
   "pygments_lexer": "ipython3",
   "version": "3.12.3"
  }
 },
 "nbformat": 4,
 "nbformat_minor": 5
}
