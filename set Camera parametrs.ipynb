{
 "cells": [
  {
   "cell_type": "code",
   "execution_count": 11,
   "id": "e9b15e4a",
   "metadata": {},
   "outputs": [
    {
     "name": "stdout",
     "output_type": "stream",
     "text": [
      "640.0\n",
      "480.0\n",
      "1280.0\n",
      "720.0\n"
     ]
    }
   ],
   "source": [
    "import cv2\n",
    "\n",
    "cap = cv2.VideoCapture(0)\n",
    "print(cap.get(cv2.CAP_PROP_FRAME_WIDTH))\n",
    "print(cap.get(cv2.CAP_PROP_FRAME_HEIGHT))\n",
    "\n",
    "cap.set(3, 3000) # Set your frame width\n",
    "cap.set(4, 3000) # Set your frame height\n",
    "\n",
    "print(cap.get(3)) # Get your frame width\n",
    "print(cap.get(4)) # Get your frame height\n",
    "\n",
    "while(cap.isOpened()): # While camera is open\n",
    "    ret, frame = cap.read() # Read frames        \n",
    "    if ret == True: # Still there is a frame to process        \n",
    "        gray = cv2.cvtColor(frame, cv2.COLOR_BGR2GRAY) # Convert frame to grayscale\n",
    "        cv2.imshow('frame', gray)                 \n",
    "        if cv2.waitKey(1) & 0xFF == ord('q'): # Wait for key press from keyboard                 \n",
    "            break                     \n",
    "    else: # If ret is false         \n",
    "        break              \n",
    "\n",
    "cap.release() # Close camera\n",
    "cv2.destroyAllWindows() # Close window   "
   ]
  },
  {
   "cell_type": "code",
   "execution_count": null,
   "id": "73082743",
   "metadata": {},
   "outputs": [
    {
     "name": "stderr",
     "output_type": "stream",
     "text": [
      "[ WARN:0@515.016] global cap_v4l.cpp:913 open VIDEOIO(V4L2:/dev/video0): can't open camera by index\n",
      "[ERROR:0@515.016] global obsensor_uvc_stream_channel.cpp:158 getStreamChannelGroup Camera index out of range\n"
     ]
    }
   ],
   "source": []
  },
  {
   "cell_type": "code",
   "execution_count": null,
   "id": "c0f49c6f",
   "metadata": {},
   "outputs": [
    {
     "data": {
      "text/plain": [
       "False"
      ]
     },
     "execution_count": 8,
     "metadata": {},
     "output_type": "execute_result"
    }
   ],
   "source": []
  },
  {
   "cell_type": "code",
   "execution_count": null,
   "id": "926a0ac2",
   "metadata": {},
   "outputs": [
    {
     "name": "stdout",
     "output_type": "stream",
     "text": [
      "0.0\n",
      "0.0\n"
     ]
    }
   ],
   "source": []
  },
  {
   "cell_type": "code",
   "execution_count": null,
   "id": "ded6bca7",
   "metadata": {},
   "outputs": [],
   "source": []
  }
 ],
 "metadata": {
  "kernelspec": {
   "display_name": "venv",
   "language": "python",
   "name": "python3"
  },
  "language_info": {
   "codemirror_mode": {
    "name": "ipython",
    "version": 3
   },
   "file_extension": ".py",
   "mimetype": "text/x-python",
   "name": "python",
   "nbconvert_exporter": "python",
   "pygments_lexer": "ipython3",
   "version": "3.12.3"
  }
 },
 "nbformat": 4,
 "nbformat_minor": 5
}
